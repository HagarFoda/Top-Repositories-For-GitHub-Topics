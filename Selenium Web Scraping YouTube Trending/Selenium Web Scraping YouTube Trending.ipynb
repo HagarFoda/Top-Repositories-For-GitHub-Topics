{
 "cells": [
  {
   "cell_type": "markdown",
   "id": "6f3c22fc",
   "metadata": {},
   "source": [
    "## Using BeautifulSoup \n"
   ]
  },
  {
   "cell_type": "code",
   "execution_count": 1,
   "id": "fcd05f09",
   "metadata": {},
   "outputs": [],
   "source": [
    "import requests\n",
    "from bs4 import BeautifulSoup"
   ]
  },
  {
   "cell_type": "code",
   "execution_count": 2,
   "id": "8547a842",
   "metadata": {},
   "outputs": [],
   "source": [
    "YOUTUBE_TRENDING_URL = 'https://www.youtube.com/feed/trending'"
   ]
  },
  {
   "cell_type": "code",
   "execution_count": 3,
   "id": "e2cc7f00",
   "metadata": {},
   "outputs": [],
   "source": [
    "response = requests.get(YOUTUBE_TRENDING_URL)"
   ]
  },
  {
   "cell_type": "code",
   "execution_count": 4,
   "id": "fe2c1501",
   "metadata": {},
   "outputs": [
    {
     "data": {
      "text/plain": [
       "200"
      ]
     },
     "execution_count": 4,
     "metadata": {},
     "output_type": "execute_result"
    }
   ],
   "source": [
    "response.status_code"
   ]
  },
  {
   "cell_type": "code",
   "execution_count": 5,
   "id": "757ccc66",
   "metadata": {},
   "outputs": [
    {
     "data": {
      "text/plain": [
       "1352429"
      ]
     },
     "execution_count": 5,
     "metadata": {},
     "output_type": "execute_result"
    }
   ],
   "source": [
    "len(response.text)"
   ]
  },
  {
   "cell_type": "code",
   "execution_count": 6,
   "id": "6feef3c0",
   "metadata": {},
   "outputs": [],
   "source": [
    "with open ('trending.html', 'w', encoding='utf-8') as f:\n",
    "    f.write(response.text)"
   ]
  },
  {
   "cell_type": "code",
   "execution_count": 7,
   "id": "9eafdc12",
   "metadata": {
    "scrolled": false
   },
   "outputs": [
    {
     "name": "stdout",
     "output_type": "stream",
     "text": [
      "Page Title: Trending - YouTube\n"
     ]
    }
   ],
   "source": [
    "doc = BeautifulSoup(response.text, 'html.parser')\n",
    "print('Page Title:', doc.title.text)"
   ]
  },
  {
   "cell_type": "code",
   "execution_count": 8,
   "id": "c3657efb",
   "metadata": {
    "scrolled": true
   },
   "outputs": [
    {
     "name": "stdout",
     "output_type": "stream",
     "text": [
      "Found 0 videos\n"
     ]
    }
   ],
   "source": [
    "#\n",
    "video_divs =  doc.find_all('div', class_ = 'style-scope ytd-video-renderer')\n",
    "print(f'Found {len(video_divs)} videos')"
   ]
  },
  {
   "cell_type": "markdown",
   "id": "fccad040",
   "metadata": {},
   "source": [
    "### We couldn't find any videos :( That's why we're heading to Selenium!"
   ]
  },
  {
   "cell_type": "markdown",
   "id": "1506542e",
   "metadata": {},
   "source": [
    "## Start using Selenium"
   ]
  },
  {
   "cell_type": "code",
   "execution_count": 9,
   "id": "ec4e4ba6",
   "metadata": {},
   "outputs": [],
   "source": [
    "!pip install selenium --quiet"
   ]
  },
  {
   "cell_type": "code",
   "execution_count": 10,
   "id": "43941684",
   "metadata": {},
   "outputs": [],
   "source": [
    "from selenium import webdriver\n",
    "from selenium.webdriver.chrome.service import Service\n",
    "from selenium.webdriver.common.by import By\n",
    "from selenium.webdriver.chrome.options import Options\n",
    "from selenium.webdriver.support.ui import WebDriverWait\n",
    "from selenium.webdriver.support import expected_conditions as EC\n",
    "import time\n",
    "import pandas as pd"
   ]
  },
  {
   "cell_type": "code",
   "execution_count": 11,
   "id": "229bbd52",
   "metadata": {},
   "outputs": [],
   "source": [
    "YOUTUBE_TRENDING_URL = 'https://www.youtube.com/feed/trending' \n",
    "\n",
    "def get_driver():\n",
    "    # Specify the path to chromedriver.exe\n",
    "    driver_path = r'C:\\Windows\\System32\\chromedriver.exe'  # Use raw string (r'') to avoid escape characters\n",
    "\n",
    "    # Set up the Chrome service\n",
    "    service = Service(driver_path)\n",
    "\n",
    "    # Initialize Chrome WebDriver with the service\n",
    "    driver = webdriver.Chrome(service=service)\n",
    "    return driver \n",
    "\n",
    "def get_videos(driver):\n",
    "    driver.get(YOUTUBE_TRENDING_URL)\n",
    "    # Wait for the page to load\n",
    "    WebDriverWait(driver, 10).until(EC.presence_of_element_located((By.TAG_NAME, \"title\")))\n",
    "    \n",
    "    video_div_class ='style-scope ytd-video-renderer'\n",
    "    videos = driver.find_elements(By.CLASS_NAME, video_div_class)\n",
    "    return videos\n",
    "\n",
    "def parse_video(video):\n",
    "    #Title\n",
    "    title_tag = video.find_element(By.ID, 'video-title')\n",
    "    title = title_tag.text\n",
    "    \n",
    "    #URL\n",
    "    url = title_tag.get_attribute('href')\n",
    "    \n",
    "    #Thumbnail\n",
    "    thumbnail_tag = video.find_element(By.TAG_NAME,'img')\n",
    "    thumbnail_url = thumbnail_tag.get_attribute('src')\n",
    "    \n",
    "    #Channel name\n",
    "    channel_div = video.find_element(By.CSS_SELECTOR, '.yt-simple-endpoint.style-scope.yt-formatted-string')\n",
    "    channel_name = channel_div.text\n",
    "    \n",
    "    #Discription \n",
    "    description = video.find_element(By.CSS_SELECTOR, '.yt-simple-endpoint.style-scope.ytd-video-renderer')\n",
    "    desc = description.text\n",
    "    \n",
    "    return{\n",
    "        'Title' : title, \n",
    "        'URL' : url,\n",
    "        'Thumbnail_url' : thumbnail_url,\n",
    "        'Channel name' : channel_name, \n",
    "        'Description' : desc      \n",
    "    }\n",
    "    "
   ]
  },
  {
   "cell_type": "code",
   "execution_count": 12,
   "id": "c97b5f5b",
   "metadata": {
    "scrolled": true
   },
   "outputs": [
    {
     "name": "stdout",
     "output_type": "stream",
     "text": [
      "Creating driver\n",
      "Fetching trending videos\n",
      "Page Title: YouTube\n",
      "found 96 videos\n",
      "Parsing top 10 video\n",
      "[{'Title': 'مباراة | الأهلي 2-0 طلائع الجيش | الجولة الثلاثون | الدوري المصري 2023/2024', 'URL': 'https://www.youtube.com/watch?v=-EP5FApPQ4Q', 'Thumbnail_url': 'https://i.ytimg.com/vi/-EP5FApPQ4Q/hqdefault.jpg?sqp=-oaymwEcCPYBEIoBSFXyq4qpAw4IARUAAIhCGAFwAcABBg==&rs=AOn4CLBtR5_I5_WGL3HUk4QWYZmLLVLWog', 'Channel name': 'kora plus', 'Description': 'مباراة | الأهلي 2-0 طلائع الجيش | الجولة الثلاثون | الدوري المصري 2023/2024'}, {'Title': 'الكورة مع فايق| نادر شوقي يتحدث باكياً عن أزمة أحمد رفعت التي تسبب في وفاته وانهيار أبراهيم فايق', 'URL': 'https://www.youtube.com/watch?v=6rWAGvbE_W4', 'Thumbnail_url': 'https://i.ytimg.com/vi/6rWAGvbE_W4/hqdefault.jpg?sqp=-oaymwEcCPYBEIoBSFXyq4qpAw4IARUAAIhCGAFwAcABBg==&rs=AOn4CLDCRJVPDaRCCiSQHbXM32wEe29Kpw', 'Channel name': 'الكورة مع فايق ', 'Description': 'الكورة مع فايق| نادر شوقي يتحدث باكياً عن أزمة أحمد رفعت التي تسبب في وفاته وانهيار أبراهيم فايق'}, {'Title': 'الكورة مع فايق | نادر شوقي: اللي فاهم هو اللي يشتغل وجالي 50 تليفون عشان ماطلعش معاك', 'URL': 'https://www.youtube.com/watch?v=-9Bix0W-zFg', 'Thumbnail_url': None, 'Channel name': 'MBC MASR 2', 'Description': 'الكورة مع فايق | نادر شوقي: اللي فاهم هو اللي يشتغل وجالي 50 تليفون عشان ماطلعش معاك'}, {'Title': 'شرح وفرم وحل ( باب أول وثاني) جيولوجيا مراجعة ليالي الامتحان 💪🏻🔥', 'URL': 'https://www.youtube.com/watch?v=099x_VMaTus', 'Thumbnail_url': None, 'Channel name': 'Geo maged emam', 'Description': 'شرح وفرم وحل ( باب أول وثاني) جيولوجيا مراجعة ليالي الامتحان 💪🏻🔥'}, {'Title': 'كليب \" وسطك طري اوي أستك \" فارس سكر _ توزيع قط كرموز | 2024', 'URL': 'https://www.youtube.com/watch?v=AtYyqDKQbNc', 'Thumbnail_url': None, 'Channel name': 'Fares Sokar - فارس سكر', 'Description': 'كليب \" وسطك طري اوي أستك \" فارس سكر _ توزيع قط كرموز | 2024'}, {'Title': 'ليه زعلانين أنا ونشوي 🤔 إحكمو انتو👉', 'URL': 'https://www.youtube.com/watch?v=LL1ywmss4JA', 'Thumbnail_url': None, 'Channel name': 'مع عائلة علي', 'Description': 'ليه زعلانين أنا ونشوي 🤔 إحكمو انتو👉'}, {'Title': 'تحدي اقوي حواوشي في مصر ٢٠٢٤ 🥩🥙🇪🇬 اضرب مع سري', 'URL': 'https://www.youtube.com/watch?v=eiZCZChEDsc', 'Thumbnail_url': None, 'Channel name': 'Marwan Serry - مروان سري ', 'Description': 'تحدي اقوي حواوشي في مصر ٢٠٢٤ 🥩🥙🇪🇬 اضرب مع سري'}, {'Title': 'تحدي مين أحسن طباخ في تريبلز🧑\\u200d🍳مع ملك أشرف', 'URL': 'https://www.youtube.com/watch?v=0_Mho-MjLGk', 'Thumbnail_url': None, 'Channel name': 'TRIPLEZ - تريبلز', 'Description': 'تحدي مين أحسن طباخ في تريبلز🧑\\u200d🍳مع ملك أشرف'}, {'Title': 'جربت 5 منتجات من المستقبل ! 🤖', 'URL': 'https://www.youtube.com/watch?v=zDulJu67fkM', 'Thumbnail_url': None, 'Channel name': 'اسراء نبيل - Esraa Nabil', 'Description': 'جربت 5 منتجات من المستقبل ! 🤖'}, {'Title': 'Nancy Ajram - Men Nazra (Official Music Video) / نانسي عجرم - من نظرة', 'URL': 'https://www.youtube.com/watch?v=UFn1-pTQ85s', 'Thumbnail_url': None, 'Channel name': 'Nancy Ajram', 'Description': 'Nancy Ajram - Men Nazra (Official Music Video) / نانسي عجرم - من نظرة'}]\n"
     ]
    }
   ],
   "source": [
    "if __name__ == \"__main__\":\n",
    "    print(\"Creating driver\")\n",
    "    driver = get_driver()\n",
    "\n",
    "    print(\"Fetching trending videos\")\n",
    "    videos = get_videos(driver)\n",
    "    \n",
    "     # Wait for the page title to load\n",
    "    WebDriverWait(driver, 10).until(EC.title_contains(\"YouTube\"))\n",
    "\n",
    "    print(\"Page Title:\", driver.title)\n",
    "    \n",
    "    print(f'found {len(videos)} videos')\n",
    "    \n",
    "    print(\"Parsing top 10 video\")\n",
    "    videos_data = [parse_video(video) for video in videos[:10]]\n",
    "    \n",
    "    print(videos_data)   "
   ]
  },
  {
   "cell_type": "code",
   "execution_count": 13,
   "id": "dbb6c8d1",
   "metadata": {},
   "outputs": [
    {
     "name": "stdout",
     "output_type": "stream",
     "text": [
      "Save the data to a CSV\n"
     ]
    }
   ],
   "source": [
    "print('Save the data to a CSV')\n",
    "videos_df = pd.DataFrame(videos_data)\n",
    "videos_df.to_csv('Trending.csv')"
   ]
  }
 ],
 "metadata": {
  "kernelspec": {
   "display_name": "Python 3 (ipykernel)",
   "language": "python",
   "name": "python3"
  },
  "language_info": {
   "codemirror_mode": {
    "name": "ipython",
    "version": 3
   },
   "file_extension": ".py",
   "mimetype": "text/x-python",
   "name": "python",
   "nbconvert_exporter": "python",
   "pygments_lexer": "ipython3",
   "version": "3.11.5"
  }
 },
 "nbformat": 4,
 "nbformat_minor": 5
}
